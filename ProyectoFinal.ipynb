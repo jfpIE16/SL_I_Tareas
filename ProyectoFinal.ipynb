{
  "nbformat": 4,
  "nbformat_minor": 0,
  "metadata": {
    "colab": {
      "name": "ProyectoFinal.ipynb",
      "provenance": [],
      "collapsed_sections": [],
      "mount_file_id": "1IaaMr15sLU623dcQ9M-nuvMO5vhnArhY",
      "authorship_tag": "ABX9TyPM5h0/rriTmWTv9M7+ADBZ",
      "include_colab_link": true
    },
    "kernelspec": {
      "name": "python3",
      "display_name": "Python 3"
    }
  },
  "cells": [
    {
      "cell_type": "markdown",
      "metadata": {
        "id": "view-in-github",
        "colab_type": "text"
      },
      "source": [
        "<a href=\"https://colab.research.google.com/github/jfpIE16/SL_I_Tareas/blob/master/ProyectoFinal.ipynb\" target=\"_parent\"><img src=\"https://colab.research.google.com/assets/colab-badge.svg\" alt=\"Open In Colab\"/></a>"
      ]
    },
    {
      "cell_type": "markdown",
      "metadata": {
        "id": "lgq9-gXESEyn",
        "colab_type": "text"
      },
      "source": [
        "# Proyecto Final\n",
        "## Statistical Learning I\n",
        "José Fernando Pérez Pérez\n",
        "\n",
        "*josefernando.perez@galileo.edu*\n",
        "\n",
        "\n",
        "---\n",
        "\n",
        "El proyecto consiste en hacer clasificación binaria  para determinar si una persona sobrevive(y=1) o no (y=0) del hundimiento del Titanic.\n",
        "El enunciado parece ser de un proyecto largo , pero es por que buscamos hacerlo detallado y poner ejemplos o referencias de cosas que pueden facilitar el trabajo.\n",
        "\n",
        "En este proyecto se busca crear un modelo con un nivel de exactitud de al menos el 80%(aunque es posible crear modelos mejores que esto).\n"
      ]
    },
    {
      "cell_type": "code",
      "metadata": {
        "id": "LQjk5J2lKVPo",
        "colab_type": "code",
        "colab": {}
      },
      "source": [
        "# Importamos las librerías necesarias\n",
        "import numpy as np\n",
        "import pandas as pd\n",
        "import matplotlib.pyplot as plt\n",
        "%matplotlib inline\n",
        "import seaborn as sns\n",
        "sns.set(font_scale=1.5)\n",
        "from sklearn.model_selection import train_test_split\n",
        "from sklearn.externals import joblib"
      ],
      "execution_count": null,
      "outputs": []
    },
    {
      "cell_type": "code",
      "metadata": {
        "id": "7nGKKItVThgK",
        "colab_type": "code",
        "colab": {}
      },
      "source": [
        "# Cargamos Tensorflow y activamos compatibilidad con version 1.x\n",
        "import tensorflow as tf\n",
        "if tf.__version__.startswith(\"2.\"):\n",
        "    import tensorflow.compat.v1 as tf\n",
        "    tf.compat.v1.disable_v2_behavior()\n",
        "    print(\"Enabled compatibility to tf1.x\")"
      ],
      "execution_count": null,
      "outputs": []
    },
    {
      "cell_type": "markdown",
      "metadata": {
        "id": "lyCSyfX9UYZG",
        "colab_type": "text"
      },
      "source": [
        "Cargamos dataset a un DataFrame de Pandas"
      ]
    },
    {
      "cell_type": "code",
      "metadata": {
        "id": "Qr7gFDazUXPc",
        "colab_type": "code",
        "colab": {}
      },
      "source": [
        "titanic_df = pd.read_csv(\"/content/drive/My Drive/data_titanic_proyecto.csv\", \n",
        "                         index_col=\"PassengerId\")"
      ],
      "execution_count": 3,
      "outputs": []
    },
    {
      "cell_type": "markdown",
      "metadata": {
        "id": "-Gd6XbzIXrZy",
        "colab_type": "text"
      },
      "source": [
        "### Descripción de las columnas\n",
        "\n",
        "| Variable | Definition                                 | Key                                            |\n",
        "|----------|--------------------------------------------|------------------------------------------------|\n",
        "| survival | Survival                                   | 0 = No, 1 = Yes                                |\n",
        "| pclass   | Ticket class                               | 1 = 1st, 2 = 2nd, 3 = 3rd                      |\n",
        "| sex      | Sex                                        | M = Male, F = Female                           |\n",
        "| Age      | Age in years                               |                                                |\n",
        "| sibsp    | # of siblings / spouses aboard the Titanic |                                                |\n",
        "| parch    | # of parents / children aboard the Titanic |                                                |\n",
        "| ticket   | Ticket number                              |                                                |\n",
        "| fare     | Passenger fare                             |                                                |\n",
        "| cabin    | Cabin number                               |                                                |\n",
        "| embarked | Port of Embarkation                        | C = Cherbourg, Q = Queenstown, S = Southampton |\n"
      ]
    },
    {
      "cell_type": "markdown",
      "metadata": {
        "id": "sao_gJ0OUwpV",
        "colab_type": "text"
      },
      "source": [
        "## Descripción del conjunto de *Datos*"
      ]
    },
    {
      "cell_type": "markdown",
      "metadata": {
        "id": "g-OIEO8eVOLg",
        "colab_type": "text"
      },
      "source": [
        "Observamos una pequeña muestra de los datos"
      ]
    },
    {
      "cell_type": "code",
      "metadata": {
        "id": "DDrQ7I93UvdO",
        "colab_type": "code",
        "colab": {
          "base_uri": "https://localhost:8080/",
          "height": 286
        },
        "outputId": "2c103311-c165-45f7-e59a-2d78efd34c89"
      },
      "source": [
        "titanic_df.head(5)"
      ],
      "execution_count": 4,
      "outputs": [
        {
          "output_type": "execute_result",
          "data": {
            "text/html": [
              "<div>\n",
              "<style scoped>\n",
              "    .dataframe tbody tr th:only-of-type {\n",
              "        vertical-align: middle;\n",
              "    }\n",
              "\n",
              "    .dataframe tbody tr th {\n",
              "        vertical-align: top;\n",
              "    }\n",
              "\n",
              "    .dataframe thead th {\n",
              "        text-align: right;\n",
              "    }\n",
              "</style>\n",
              "<table border=\"1\" class=\"dataframe\">\n",
              "  <thead>\n",
              "    <tr style=\"text-align: right;\">\n",
              "      <th></th>\n",
              "      <th>Name</th>\n",
              "      <th>Age</th>\n",
              "      <th>SibSp</th>\n",
              "      <th>Parch</th>\n",
              "      <th>Ticket</th>\n",
              "      <th>Fare</th>\n",
              "      <th>Cabin</th>\n",
              "      <th>Embarked</th>\n",
              "      <th>passenger_class</th>\n",
              "      <th>passenger_sex</th>\n",
              "      <th>passenger_survived</th>\n",
              "    </tr>\n",
              "    <tr>\n",
              "      <th>PassengerId</th>\n",
              "      <th></th>\n",
              "      <th></th>\n",
              "      <th></th>\n",
              "      <th></th>\n",
              "      <th></th>\n",
              "      <th></th>\n",
              "      <th></th>\n",
              "      <th></th>\n",
              "      <th></th>\n",
              "      <th></th>\n",
              "      <th></th>\n",
              "    </tr>\n",
              "  </thead>\n",
              "  <tbody>\n",
              "    <tr>\n",
              "      <th>1</th>\n",
              "      <td>Braund, Mr. Owen Harris</td>\n",
              "      <td>22.0</td>\n",
              "      <td>1</td>\n",
              "      <td>0</td>\n",
              "      <td>A/5 21171</td>\n",
              "      <td>7.2500</td>\n",
              "      <td>NaN</td>\n",
              "      <td>S</td>\n",
              "      <td>Lower</td>\n",
              "      <td>M</td>\n",
              "      <td>N</td>\n",
              "    </tr>\n",
              "    <tr>\n",
              "      <th>2</th>\n",
              "      <td>Cumings, Mrs. John Bradley (Florence Briggs Th...</td>\n",
              "      <td>38.0</td>\n",
              "      <td>1</td>\n",
              "      <td>0</td>\n",
              "      <td>PC 17599</td>\n",
              "      <td>71.2833</td>\n",
              "      <td>C85</td>\n",
              "      <td>C</td>\n",
              "      <td>Upper</td>\n",
              "      <td>F</td>\n",
              "      <td>Y</td>\n",
              "    </tr>\n",
              "    <tr>\n",
              "      <th>3</th>\n",
              "      <td>Heikkinen, Miss. Laina</td>\n",
              "      <td>26.0</td>\n",
              "      <td>0</td>\n",
              "      <td>0</td>\n",
              "      <td>STON/O2. 3101282</td>\n",
              "      <td>7.9250</td>\n",
              "      <td>NaN</td>\n",
              "      <td>S</td>\n",
              "      <td>Lower</td>\n",
              "      <td>F</td>\n",
              "      <td>Y</td>\n",
              "    </tr>\n",
              "    <tr>\n",
              "      <th>4</th>\n",
              "      <td>Futrelle, Mrs. Jacques Heath (Lily May Peel)</td>\n",
              "      <td>35.0</td>\n",
              "      <td>1</td>\n",
              "      <td>0</td>\n",
              "      <td>113803</td>\n",
              "      <td>53.1000</td>\n",
              "      <td>C123</td>\n",
              "      <td>S</td>\n",
              "      <td>Upper</td>\n",
              "      <td>F</td>\n",
              "      <td>Y</td>\n",
              "    </tr>\n",
              "    <tr>\n",
              "      <th>5</th>\n",
              "      <td>Allen, Mr. William Henry</td>\n",
              "      <td>35.0</td>\n",
              "      <td>0</td>\n",
              "      <td>0</td>\n",
              "      <td>373450</td>\n",
              "      <td>8.0500</td>\n",
              "      <td>NaN</td>\n",
              "      <td>S</td>\n",
              "      <td>Lower</td>\n",
              "      <td>M</td>\n",
              "      <td>N</td>\n",
              "    </tr>\n",
              "  </tbody>\n",
              "</table>\n",
              "</div>"
            ],
            "text/plain": [
              "                                                          Name  ...  passenger_survived\n",
              "PassengerId                                                     ...                    \n",
              "1                                      Braund, Mr. Owen Harris  ...                   N\n",
              "2            Cumings, Mrs. John Bradley (Florence Briggs Th...  ...                   Y\n",
              "3                                       Heikkinen, Miss. Laina  ...                   Y\n",
              "4                 Futrelle, Mrs. Jacques Heath (Lily May Peel)  ...                   Y\n",
              "5                                     Allen, Mr. William Henry  ...                   N\n",
              "\n",
              "[5 rows x 11 columns]"
            ]
          },
          "metadata": {
            "tags": []
          },
          "execution_count": 4
        }
      ]
    },
    {
      "cell_type": "markdown",
      "metadata": {
        "id": "obEa0hx4VRDV",
        "colab_type": "text"
      },
      "source": [
        "Breve descripción de las columnas con valores númericos\n",
        "\n"
      ]
    },
    {
      "cell_type": "code",
      "metadata": {
        "id": "ZKIjfNpBVTnl",
        "colab_type": "code",
        "colab": {
          "base_uri": "https://localhost:8080/",
          "height": 297
        },
        "outputId": "064a44ad-ae59-487e-93f2-6ab647a869d3"
      },
      "source": [
        "titanic_df.describe()"
      ],
      "execution_count": 5,
      "outputs": [
        {
          "output_type": "execute_result",
          "data": {
            "text/html": [
              "<div>\n",
              "<style scoped>\n",
              "    .dataframe tbody tr th:only-of-type {\n",
              "        vertical-align: middle;\n",
              "    }\n",
              "\n",
              "    .dataframe tbody tr th {\n",
              "        vertical-align: top;\n",
              "    }\n",
              "\n",
              "    .dataframe thead th {\n",
              "        text-align: right;\n",
              "    }\n",
              "</style>\n",
              "<table border=\"1\" class=\"dataframe\">\n",
              "  <thead>\n",
              "    <tr style=\"text-align: right;\">\n",
              "      <th></th>\n",
              "      <th>Age</th>\n",
              "      <th>SibSp</th>\n",
              "      <th>Parch</th>\n",
              "      <th>Fare</th>\n",
              "    </tr>\n",
              "  </thead>\n",
              "  <tbody>\n",
              "    <tr>\n",
              "      <th>count</th>\n",
              "      <td>714.000000</td>\n",
              "      <td>891.000000</td>\n",
              "      <td>891.000000</td>\n",
              "      <td>891.000000</td>\n",
              "    </tr>\n",
              "    <tr>\n",
              "      <th>mean</th>\n",
              "      <td>29.699118</td>\n",
              "      <td>0.523008</td>\n",
              "      <td>0.381594</td>\n",
              "      <td>32.204208</td>\n",
              "    </tr>\n",
              "    <tr>\n",
              "      <th>std</th>\n",
              "      <td>14.526497</td>\n",
              "      <td>1.102743</td>\n",
              "      <td>0.806057</td>\n",
              "      <td>49.693429</td>\n",
              "    </tr>\n",
              "    <tr>\n",
              "      <th>min</th>\n",
              "      <td>0.420000</td>\n",
              "      <td>0.000000</td>\n",
              "      <td>0.000000</td>\n",
              "      <td>0.000000</td>\n",
              "    </tr>\n",
              "    <tr>\n",
              "      <th>25%</th>\n",
              "      <td>20.125000</td>\n",
              "      <td>0.000000</td>\n",
              "      <td>0.000000</td>\n",
              "      <td>7.910400</td>\n",
              "    </tr>\n",
              "    <tr>\n",
              "      <th>50%</th>\n",
              "      <td>28.000000</td>\n",
              "      <td>0.000000</td>\n",
              "      <td>0.000000</td>\n",
              "      <td>14.454200</td>\n",
              "    </tr>\n",
              "    <tr>\n",
              "      <th>75%</th>\n",
              "      <td>38.000000</td>\n",
              "      <td>1.000000</td>\n",
              "      <td>0.000000</td>\n",
              "      <td>31.000000</td>\n",
              "    </tr>\n",
              "    <tr>\n",
              "      <th>max</th>\n",
              "      <td>80.000000</td>\n",
              "      <td>8.000000</td>\n",
              "      <td>6.000000</td>\n",
              "      <td>512.329200</td>\n",
              "    </tr>\n",
              "  </tbody>\n",
              "</table>\n",
              "</div>"
            ],
            "text/plain": [
              "              Age       SibSp       Parch        Fare\n",
              "count  714.000000  891.000000  891.000000  891.000000\n",
              "mean    29.699118    0.523008    0.381594   32.204208\n",
              "std     14.526497    1.102743    0.806057   49.693429\n",
              "min      0.420000    0.000000    0.000000    0.000000\n",
              "25%     20.125000    0.000000    0.000000    7.910400\n",
              "50%     28.000000    0.000000    0.000000   14.454200\n",
              "75%     38.000000    1.000000    0.000000   31.000000\n",
              "max     80.000000    8.000000    6.000000  512.329200"
            ]
          },
          "metadata": {
            "tags": []
          },
          "execution_count": 5
        }
      ]
    },
    {
      "cell_type": "markdown",
      "metadata": {
        "id": "Sly08vVvXXac",
        "colab_type": "text"
      },
      "source": [
        "Verificamos columnas con valores nulos.\n"
      ]
    },
    {
      "cell_type": "code",
      "metadata": {
        "id": "mIPxC9lfXbGX",
        "colab_type": "code",
        "colab": {
          "base_uri": "https://localhost:8080/",
          "height": 221
        },
        "outputId": "d0312bc6-ec3d-4d3c-eb35-19cce6ee1ff7"
      },
      "source": [
        "titanic_df.isnull().sum()"
      ],
      "execution_count": 6,
      "outputs": [
        {
          "output_type": "execute_result",
          "data": {
            "text/plain": [
              "Name                    0\n",
              "Age                   177\n",
              "SibSp                   0\n",
              "Parch                   0\n",
              "Ticket                  0\n",
              "Fare                    0\n",
              "Cabin                 687\n",
              "Embarked                2\n",
              "passenger_class         0\n",
              "passenger_sex           0\n",
              "passenger_survived      0\n",
              "dtype: int64"
            ]
          },
          "metadata": {
            "tags": []
          },
          "execution_count": 6
        }
      ]
    },
    {
      "cell_type": "markdown",
      "metadata": {
        "id": "9BFZPBWNI6Lo",
        "colab_type": "text"
      },
      "source": [
        "## Limpieza y Depuración de los Datos"
      ]
    },
    {
      "cell_type": "markdown",
      "metadata": {
        "id": "CJQVa1Yeai65",
        "colab_type": "text"
      },
      "source": [
        "Agregamos los valores restantes de *Age* como la mediana de la columna, *Cabin* una letra específica \"N\" y *Embarked* Z. La columna *passenger_survived* se procesa para tener un valor 1 si el valor es \"Y\" y 0 en otro caso.\n",
        "\n",
        "Columnas nuevas:\n",
        "\n",
        "- Sex: 1 - Masculino, 0 - Femenino\n",
        "- Survived: 1 -> Y, 0 -> N\n",
        "- Embarqued_\"X\": Columna para cada puerto\n",
        "- \"x\"_class: Clase de boleto por pasajero. Columna para cada clase."
      ]
    },
    {
      "cell_type": "code",
      "metadata": {
        "id": "pJkHy5Ffagdq",
        "colab_type": "code",
        "colab": {}
      },
      "source": [
        "titanic_df['Age'] = titanic_df['Age'].fillna(int(titanic_df['Age'].median()))\n",
        "\n",
        "# Definimos nuevas columnas para cada puerto\n",
        "titanic_df['Embarked'] = titanic_df['Embarked'].fillna('Z')\n",
        "titanic_df[\"Embarked_S\"] = titanic_df[\"Embarked\"].apply(\n",
        "    lambda x: 1 if str(x) == \"S\" else 0\n",
        "    )\n",
        "titanic_df[\"Embarked_C\"] = titanic_df[\"Embarked\"].apply(\n",
        "    lambda x: 1 if str(x) == \"C\" else 0\n",
        "    )\n",
        "titanic_df[\"Embarked_Q\"] = titanic_df[\"Embarked\"].apply(\n",
        "    lambda x: 1 if str(x) == \"Q\" else 0\n",
        "    )\n",
        "\n",
        "# Definimos nuevas columnas para cada clase\n",
        "titanic_df[\"Lower_class\"] = titanic_df[\"passenger_class\"]. apply(\n",
        "    lambda x: 1 if str(x) == \"Lower\" else 0\n",
        ")\n",
        "titanic_df[\"Middle_class\"] = titanic_df[\"passenger_class\"]. apply(\n",
        "    lambda x: 1 if str(x) == \"Middle\" else 0\n",
        ")\n",
        "titanic_df[\"High_class\"] = titanic_df[\"passenger_class\"]. apply(\n",
        "    lambda x: 1 if str(x) == \"Upper\" else 0\n",
        ")\n",
        "# Para la columna cabin solo nos interesa la letra inicial\n",
        "titanic_df['Cabin'] = titanic_df['Cabin'].fillna('Z')\n",
        "titanic_df['Cabin'] = titanic_df['Cabin'].apply(lambda x: str(x)[0])\n",
        "\n",
        "titanic_df['Sex'] = titanic_df['passenger_sex'].map({\"F\":0, \"M\":1})\n",
        "titanic_df['Survived'] = titanic_df['passenger_survived'].map({\"Y\":1, \"N\":0})"
      ],
      "execution_count": 7,
      "outputs": []
    },
    {
      "cell_type": "markdown",
      "metadata": {
        "id": "VVxSuyvtsq3u",
        "colab_type": "text"
      },
      "source": [
        "Se estudia crear nuevas columnas en las que se indica el tipo de cabina en sus variantes \"Low\", \"Middle\" y \"High\" que nos indica la probabilidad de supervivencia dada la cabina en la que se transportaban cada persona."
      ]
    },
    {
      "cell_type": "code",
      "metadata": {
        "id": "qH9RiLPuqotg",
        "colab_type": "code",
        "colab": {
          "base_uri": "https://localhost:8080/",
          "height": 318
        },
        "outputId": "f9e43f70-1cdf-4da8-a3a2-5145f3adafd7"
      },
      "source": [
        "sns.barplot(\n",
        "    x = 'Cabin',\n",
        "    y = 'Survived',\n",
        "    data = titanic_df,\n",
        "    order = ['E', 'D', 'B', 'F', 'C', 'G', 'A', 'Z', 'T']\n",
        ").set_title(\"Survive prob given Cabin\")\n",
        "plt.show()"
      ],
      "execution_count": 8,
      "outputs": [
        {
          "output_type": "display_data",
          "data": {
            "image/png": "[encoded data removed]",
            "text/plain": [
              "<Figure size 432x288 with 1 Axes>"
            ]
          },
          "metadata": {
            "tags": [],
            "needs_background": "light"
          }
        }
      ]
    },
    {
      "cell_type": "markdown",
      "metadata": {
        "id": "-F6KMmDIvRnG",
        "colab_type": "text"
      },
      "source": [
        "Creación de nuevas columnas a partir del feature *Cabin*, también se agrupan en rangos la edad de los pasajeros."
      ]
    },
    {
      "cell_type": "code",
      "metadata": {
        "id": "4zhXVDNAvBCN",
        "colab_type": "code",
        "colab": {}
      },
      "source": [
        "titanic_df[\"Cabin_Low\"] = titanic_df[\"Cabin\"].apply(\n",
        "    lambda x: 1 if str(x) in [\"G\", \"A\", \"Z\", \"T\"] else 0\n",
        ")\n",
        "titanic_df[\"Cabin_Middle\"] = titanic_df[\"Cabin\"].apply(\n",
        "    lambda x: 1 if str(x) in [\"F\", \"C\"] else 0\n",
        ")\n",
        "titanic_df[\"Cabin_High\"] = titanic_df[\"Cabin\"].apply(\n",
        "    lambda x: 1 if str(x) in [\"E\", \"D\", \"B\"] else 0\n",
        ")\n",
        "\n",
        "titanic_df[\"Age_g1\"] = titanic_df[\"Age\"].apply(\n",
        "    lambda x: 1 if x <= 16 else 0\n",
        ")\n",
        "titanic_df[\"Age_g2\"] = titanic_df[\"Age\"].apply(\n",
        "    lambda x: 1 if x > 16 and x <= 40 else 0\n",
        ")\n",
        "titanic_df[\"Age_g3\"] = titanic_df[\"Age\"].apply(\n",
        "    lambda x: 1 if x > 40 and x <= 60 else 0\n",
        ")\n",
        "titanic_df[\"Age_g4\"] = titanic_df[\"Age\"].apply(\n",
        "    lambda x: 1 if x >= 60 else 0\n",
        ")"
      ],
      "execution_count": 9,
      "outputs": []
    },
    {
      "cell_type": "code",
      "metadata": {
        "id": "9-DNEzUFfhOr",
        "colab_type": "code",
        "colab": {
          "base_uri": "https://localhost:8080/",
          "height": 527
        },
        "outputId": "23409d05-dadd-4391-ceee-9688f68bd6f6"
      },
      "source": [
        "titanic_df.head()"
      ],
      "execution_count": 10,
      "outputs": [
        {
          "output_type": "execute_result",
          "data": {
            "text/html": [
              "<div>\n",
              "<style scoped>\n",
              "    .dataframe tbody tr th:only-of-type {\n",
              "        vertical-align: middle;\n",
              "    }\n",
              "\n",
              "    .dataframe tbody tr th {\n",
              "        vertical-align: top;\n",
              "    }\n",
              "\n",
              "    .dataframe thead th {\n",
              "        text-align: right;\n",
              "    }\n",
              "</style>\n",
              "<table border=\"1\" class=\"dataframe\">\n",
              "  <thead>\n",
              "    <tr style=\"text-align: right;\">\n",
              "      <th></th>\n",
              "      <th>Name</th>\n",
              "      <th>Age</th>\n",
              "      <th>SibSp</th>\n",
              "      <th>Parch</th>\n",
              "      <th>Ticket</th>\n",
              "      <th>Fare</th>\n",
              "      <th>Cabin</th>\n",
              "      <th>Embarked</th>\n",
              "      <th>passenger_class</th>\n",
              "      <th>passenger_sex</th>\n",
              "      <th>passenger_survived</th>\n",
              "      <th>Embarked_S</th>\n",
              "      <th>Embarked_C</th>\n",
              "      <th>Embarked_Q</th>\n",
              "      <th>Lower_class</th>\n",
              "      <th>Middle_class</th>\n",
              "      <th>High_class</th>\n",
              "      <th>Sex</th>\n",
              "      <th>Survived</th>\n",
              "      <th>Cabin_Low</th>\n",
              "      <th>Cabin_Middle</th>\n",
              "      <th>Cabin_High</th>\n",
              "      <th>Age_g1</th>\n",
              "      <th>Age_g2</th>\n",
              "      <th>Age_g3</th>\n",
              "      <th>Age_g4</th>\n",
              "    </tr>\n",
              "    <tr>\n",
              "      <th>PassengerId</th>\n",
              "      <th></th>\n",
              "      <th></th>\n",
              "      <th></th>\n",
              "      <th></th>\n",
              "      <th></th>\n",
              "      <th></th>\n",
              "      <th></th>\n",
              "      <th></th>\n",
              "      <th></th>\n",
              "      <th></th>\n",
              "      <th></th>\n",
              "      <th></th>\n",
              "      <th></th>\n",
              "      <th></th>\n",
              "      <th></th>\n",
              "      <th></th>\n",
              "      <th></th>\n",
              "      <th></th>\n",
              "      <th></th>\n",
              "      <th></th>\n",
              "      <th></th>\n",
              "      <th></th>\n",
              "      <th></th>\n",
              "      <th></th>\n",
              "      <th></th>\n",
              "      <th></th>\n",
              "    </tr>\n",
              "  </thead>\n",
              "  <tbody>\n",
              "    <tr>\n",
              "      <th>1</th>\n",
              "      <td>Braund, Mr. Owen Harris</td>\n",
              "      <td>22.0</td>\n",
              "      <td>1</td>\n",
              "      <td>0</td>\n",
              "      <td>A/5 21171</td>\n",
              "      <td>7.2500</td>\n",
              "      <td>Z</td>\n",
              "      <td>S</td>\n",
              "      <td>Lower</td>\n",
              "      <td>M</td>\n",
              "      <td>N</td>\n",
              "      <td>1</td>\n",
              "      <td>0</td>\n",
              "      <td>0</td>\n",
              "      <td>1</td>\n",
              "      <td>0</td>\n",
              "      <td>0</td>\n",
              "      <td>1</td>\n",
              "      <td>0</td>\n",
              "      <td>1</td>\n",
              "      <td>0</td>\n",
              "      <td>0</td>\n",
              "      <td>0</td>\n",
              "      <td>1</td>\n",
              "      <td>0</td>\n",
              "      <td>0</td>\n",
              "    </tr>\n",
              "    <tr>\n",
              "      <th>2</th>\n",
              "      <td>Cumings, Mrs. John Bradley (Florence Briggs Th...</td>\n",
              "      <td>38.0</td>\n",
              "      <td>1</td>\n",
              "      <td>0</td>\n",
              "      <td>PC 17599</td>\n",
              "      <td>71.2833</td>\n",
              "      <td>C</td>\n",
              "      <td>C</td>\n",
              "      <td>Upper</td>\n",
              "      <td>F</td>\n",
              "      <td>Y</td>\n",
              "      <td>0</td>\n",
              "      <td>1</td>\n",
              "      <td>0</td>\n",
              "      <td>0</td>\n",
              "      <td>0</td>\n",
              "      <td>1</td>\n",
              "      <td>0</td>\n",
              "      <td>1</td>\n",
              "      <td>0</td>\n",
              "      <td>1</td>\n",
              "      <td>0</td>\n",
              "      <td>0</td>\n",
              "      <td>1</td>\n",
              "      <td>0</td>\n",
              "      <td>0</td>\n",
              "    </tr>\n",
              "    <tr>\n",
              "      <th>3</th>\n",
              "      <td>Heikkinen, Miss. Laina</td>\n",
              "      <td>26.0</td>\n",
              "      <td>0</td>\n",
              "      <td>0</td>\n",
              "      <td>STON/O2. 3101282</td>\n",
              "      <td>7.9250</td>\n",
              "      <td>Z</td>\n",
              "      <td>S</td>\n",
              "      <td>Lower</td>\n",
              "      <td>F</td>\n",
              "      <td>Y</td>\n",
              "      <td>1</td>\n",
              "      <td>0</td>\n",
              "      <td>0</td>\n",
              "      <td>1</td>\n",
              "      <td>0</td>\n",
              "      <td>0</td>\n",
              "      <td>0</td>\n",
              "      <td>1</td>\n",
              "      <td>1</td>\n",
              "      <td>0</td>\n",
              "      <td>0</td>\n",
              "      <td>0</td>\n",
              "      <td>1</td>\n",
              "      <td>0</td>\n",
              "      <td>0</td>\n",
              "    </tr>\n",
              "    <tr>\n",
              "      <th>4</th>\n",
              "      <td>Futrelle, Mrs. Jacques Heath (Lily May Peel)</td>\n",
              "      <td>35.0</td>\n",
              "      <td>1</td>\n",
              "      <td>0</td>\n",
              "      <td>113803</td>\n",
              "      <td>53.1000</td>\n",
              "      <td>C</td>\n",
              "      <td>S</td>\n",
              "      <td>Upper</td>\n",
              "      <td>F</td>\n",
              "      <td>Y</td>\n",
              "      <td>1</td>\n",
              "      <td>0</td>\n",
              "      <td>0</td>\n",
              "      <td>0</td>\n",
              "      <td>0</td>\n",
              "      <td>1</td>\n",
              "      <td>0</td>\n",
              "      <td>1</td>\n",
              "      <td>0</td>\n",
              "      <td>1</td>\n",
              "      <td>0</td>\n",
              "      <td>0</td>\n",
              "      <td>1</td>\n",
              "      <td>0</td>\n",
              "      <td>0</td>\n",
              "    </tr>\n",
              "    <tr>\n",
              "      <th>5</th>\n",
              "      <td>Allen, Mr. William Henry</td>\n",
              "      <td>35.0</td>\n",
              "      <td>0</td>\n",
              "      <td>0</td>\n",
              "      <td>373450</td>\n",
              "      <td>8.0500</td>\n",
              "      <td>Z</td>\n",
              "      <td>S</td>\n",
              "      <td>Lower</td>\n",
              "      <td>M</td>\n",
              "      <td>N</td>\n",
              "      <td>1</td>\n",
              "      <td>0</td>\n",
              "      <td>0</td>\n",
              "      <td>1</td>\n",
              "      <td>0</td>\n",
              "      <td>0</td>\n",
              "      <td>1</td>\n",
              "      <td>0</td>\n",
              "      <td>1</td>\n",
              "      <td>0</td>\n",
              "      <td>0</td>\n",
              "      <td>0</td>\n",
              "      <td>1</td>\n",
              "      <td>0</td>\n",
              "      <td>0</td>\n",
              "    </tr>\n",
              "  </tbody>\n",
              "</table>\n",
              "</div>"
            ],
            "text/plain": [
              "                                                          Name  ...  Age_g4\n",
              "PassengerId                                                     ...        \n",
              "1                                      Braund, Mr. Owen Harris  ...       0\n",
              "2            Cumings, Mrs. John Bradley (Florence Briggs Th...  ...       0\n",
              "3                                       Heikkinen, Miss. Laina  ...       0\n",
              "4                 Futrelle, Mrs. Jacques Heath (Lily May Peel)  ...       0\n",
              "5                                     Allen, Mr. William Henry  ...       0\n",
              "\n",
              "[5 rows x 26 columns]"
            ]
          },
          "metadata": {
            "tags": []
          },
          "execution_count": 10
        }
      ]
    },
    {
      "cell_type": "markdown",
      "metadata": {
        "id": "_vl4p7UZcxhs",
        "colab_type": "text"
      },
      "source": [
        "### Gráficos descriptivos"
      ]
    },
    {
      "cell_type": "markdown",
      "metadata": {
        "id": "kT4_SoP4Jttm",
        "colab_type": "text"
      },
      "source": [
        "A continuación se presentan gráficos que nos indican la probabilidad de supervivencia dada una variable puntual o categórica. Por ejemplo, en la gráfica (0,0) podemos observar que una persona de género femenino tendría una probabilidad mayor de sobrevivir. De la gráfica (2,1) se puede concluir que la probabilidad de supervivencia es mayor para las personas que viajaron en las cabinas \"E, D y B\"."
      ]
    },
    {
      "cell_type": "code",
      "metadata": {
        "id": "eXW-pseFc23D",
        "colab_type": "code",
        "colab": {
          "base_uri": "https://localhost:8080/",
          "height": 784
        },
        "outputId": "df114cd9-228a-49b7-cb70-685749fbb34e"
      },
      "source": [
        "figure, ax = plt.subplots(3, 3, figsize=[22,18], )\n",
        "\n",
        "sns.violinplot(x = 'passenger_sex', y = 'Survived', data = titanic_df, \n",
        "               ax = ax[0,0]).set_title(\"Supervivencia por genero\")\n",
        "sns.barplot(x = 'Embarked', y = 'Survived', data = titanic_df,\n",
        "            ax = ax[0,1]).set_title('Supervivencia por puerto')\n",
        "sns.barplot(x = \"Age_g1\", y = 'Survived', data = titanic_df,\n",
        "            ax = ax[0,2]).set_title('Supervivencia por edad (<=16)')\n",
        "sns.barplot(x = \"Age_g2\", y = 'Survived', data = titanic_df,\n",
        "            ax = ax[1,0]).set_title('Supervivencia por edad (16<=x<40)')\n",
        "sns.barplot(x = \"Age_g3\", y = 'Survived', data = titanic_df,\n",
        "            ax = ax[1,1]).set_title('Supervivencia por edad (40<=x<60)')\n",
        "sns.barplot(x = \"Age_g4\", y = 'Survived', data = titanic_df,\n",
        "            ax = ax[1,2]).set_title('Supervivencia por edad (>=60)')\n",
        "sns.barplot(x = 'Cabin', y = 'Survived', data=titanic_df,\n",
        "            ax = ax[2,0]).set_title('Supervivencia por \"Cabin\"')\n",
        "sns.barplot(x = 'High_class', y = 'Survived', data = titanic_df,\n",
        "            ax = ax[2,1]).set_title('Supervivencia \"High class\"')\n",
        "\n",
        "figure.tight_layout(pad=3.0)\n",
        "plt.show()"
      ],
      "execution_count": 370,
      "outputs": [
        {
          "output_type": "display_data",
          "data": {
            "image/png": "[encoded data removed]",
            "text/plain": [
              "<Figure size 1584x1296 with 9 Axes>"
            ]
          },
          "metadata": {
            "tags": [],
            "needs_background": "light"
          }
        }
      ]
    },
    {
      "cell_type": "markdown",
      "metadata": {
        "id": "WDnfQav1KSFm",
        "colab_type": "text"
      },
      "source": [
        "Obtenemos las variables que se utilizaran como *features* para los modelos de clasificación propuestos."
      ]
    },
    {
      "cell_type": "code",
      "metadata": {
        "id": "CJ-vLjhuNjE_",
        "colab_type": "code",
        "colab": {
          "base_uri": "https://localhost:8080/",
          "height": 298
        },
        "outputId": "d7dc8dbc-1388-4381-f278-af127bea18ca"
      },
      "source": [
        "titanic_df.head(2)"
      ],
      "execution_count": 12,
      "outputs": [
        {
          "output_type": "execute_result",
          "data": {
            "text/html": [
              "<div>\n",
              "<style scoped>\n",
              "    .dataframe tbody tr th:only-of-type {\n",
              "        vertical-align: middle;\n",
              "    }\n",
              "\n",
              "    .dataframe tbody tr th {\n",
              "        vertical-align: top;\n",
              "    }\n",
              "\n",
              "    .dataframe thead th {\n",
              "        text-align: right;\n",
              "    }\n",
              "</style>\n",
              "<table border=\"1\" class=\"dataframe\">\n",
              "  <thead>\n",
              "    <tr style=\"text-align: right;\">\n",
              "      <th></th>\n",
              "      <th>Name</th>\n",
              "      <th>Age</th>\n",
              "      <th>SibSp</th>\n",
              "      <th>Parch</th>\n",
              "      <th>Ticket</th>\n",
              "      <th>Fare</th>\n",
              "      <th>Cabin</th>\n",
              "      <th>Embarked</th>\n",
              "      <th>passenger_class</th>\n",
              "      <th>passenger_sex</th>\n",
              "      <th>passenger_survived</th>\n",
              "      <th>Embarked_S</th>\n",
              "      <th>Embarked_C</th>\n",
              "      <th>Embarked_Q</th>\n",
              "      <th>Lower_class</th>\n",
              "      <th>Middle_class</th>\n",
              "      <th>High_class</th>\n",
              "      <th>Sex</th>\n",
              "      <th>Survived</th>\n",
              "      <th>Cabin_Low</th>\n",
              "      <th>Cabin_Middle</th>\n",
              "      <th>Cabin_High</th>\n",
              "      <th>Age_g1</th>\n",
              "      <th>Age_g2</th>\n",
              "      <th>Age_g3</th>\n",
              "      <th>Age_g4</th>\n",
              "    </tr>\n",
              "    <tr>\n",
              "      <th>PassengerId</th>\n",
              "      <th></th>\n",
              "      <th></th>\n",
              "      <th></th>\n",
              "      <th></th>\n",
              "      <th></th>\n",
              "      <th></th>\n",
              "      <th></th>\n",
              "      <th></th>\n",
              "      <th></th>\n",
              "      <th></th>\n",
              "      <th></th>\n",
              "      <th></th>\n",
              "      <th></th>\n",
              "      <th></th>\n",
              "      <th></th>\n",
              "      <th></th>\n",
              "      <th></th>\n",
              "      <th></th>\n",
              "      <th></th>\n",
              "      <th></th>\n",
              "      <th></th>\n",
              "      <th></th>\n",
              "      <th></th>\n",
              "      <th></th>\n",
              "      <th></th>\n",
              "      <th></th>\n",
              "    </tr>\n",
              "  </thead>\n",
              "  <tbody>\n",
              "    <tr>\n",
              "      <th>1</th>\n",
              "      <td>Braund, Mr. Owen Harris</td>\n",
              "      <td>22.0</td>\n",
              "      <td>1</td>\n",
              "      <td>0</td>\n",
              "      <td>A/5 21171</td>\n",
              "      <td>7.2500</td>\n",
              "      <td>Z</td>\n",
              "      <td>S</td>\n",
              "      <td>Lower</td>\n",
              "      <td>M</td>\n",
              "      <td>N</td>\n",
              "      <td>1</td>\n",
              "      <td>0</td>\n",
              "      <td>0</td>\n",
              "      <td>1</td>\n",
              "      <td>0</td>\n",
              "      <td>0</td>\n",
              "      <td>1</td>\n",
              "      <td>0</td>\n",
              "      <td>1</td>\n",
              "      <td>0</td>\n",
              "      <td>0</td>\n",
              "      <td>0</td>\n",
              "      <td>1</td>\n",
              "      <td>0</td>\n",
              "      <td>0</td>\n",
              "    </tr>\n",
              "    <tr>\n",
              "      <th>2</th>\n",
              "      <td>Cumings, Mrs. John Bradley (Florence Briggs Th...</td>\n",
              "      <td>38.0</td>\n",
              "      <td>1</td>\n",
              "      <td>0</td>\n",
              "      <td>PC 17599</td>\n",
              "      <td>71.2833</td>\n",
              "      <td>C</td>\n",
              "      <td>C</td>\n",
              "      <td>Upper</td>\n",
              "      <td>F</td>\n",
              "      <td>Y</td>\n",
              "      <td>0</td>\n",
              "      <td>1</td>\n",
              "      <td>0</td>\n",
              "      <td>0</td>\n",
              "      <td>0</td>\n",
              "      <td>1</td>\n",
              "      <td>0</td>\n",
              "      <td>1</td>\n",
              "      <td>0</td>\n",
              "      <td>1</td>\n",
              "      <td>0</td>\n",
              "      <td>0</td>\n",
              "      <td>1</td>\n",
              "      <td>0</td>\n",
              "      <td>0</td>\n",
              "    </tr>\n",
              "  </tbody>\n",
              "</table>\n",
              "</div>"
            ],
            "text/plain": [
              "                                                          Name  ...  Age_g4\n",
              "PassengerId                                                     ...        \n",
              "1                                      Braund, Mr. Owen Harris  ...       0\n",
              "2            Cumings, Mrs. John Bradley (Florence Briggs Th...  ...       0\n",
              "\n",
              "[2 rows x 26 columns]"
            ]
          },
          "metadata": {
            "tags": []
          },
          "execution_count": 12
        }
      ]
    },
    {
      "cell_type": "code",
      "metadata": {
        "id": "bskjY9XMNhXF",
        "colab_type": "code",
        "colab": {
          "base_uri": "https://localhost:8080/",
          "height": 34
        },
        "outputId": "61ca7059-81a6-4922-c37d-dbc1186334b6"
      },
      "source": [
        "features = [\"Parch\", \"Fare\", \"Sex\", \"Embarked_C\", \"Embarked_S\",\n",
        "            \"Embarked_Q\", \"Lower_class\", \"Middle_class\", \"High_class\",\n",
        "             \"Age\"]\n",
        "\n",
        "# Conjunto de datos\n",
        "Y = titanic_df[\"Survived\"].values\n",
        "X = titanic_df[features].values\n",
        "\n",
        "# Almacenamos una copia de los datos procesados\n",
        "titanic_df[features].to_csv(\"/content/drive/My Drive/data_titanic_processed_no_label.csv\")\n",
        "X.shape, Y.shape"
      ],
      "execution_count": 771,
      "outputs": [
        {
          "output_type": "execute_result",
          "data": {
            "text/plain": [
              "((891, 10), (891,))"
            ]
          },
          "metadata": {
            "tags": []
          },
          "execution_count": 771
        }
      ]
    },
    {
      "cell_type": "markdown",
      "metadata": {
        "id": "KSFINJFAO9Bg",
        "colab_type": "text"
      },
      "source": [
        "Muestra del conjunto de datos final."
      ]
    },
    {
      "cell_type": "code",
      "metadata": {
        "id": "NBuRVdGpOsKF",
        "colab_type": "code",
        "colab": {
          "base_uri": "https://localhost:8080/",
          "height": 235
        },
        "outputId": "a3dcb4a8-450b-4bb0-d38a-be08815b565e"
      },
      "source": [
        "titanic_df[features].head()"
      ],
      "execution_count": 772,
      "outputs": [
        {
          "output_type": "execute_result",
          "data": {
            "text/html": [
              "<div>\n",
              "<style scoped>\n",
              "    .dataframe tbody tr th:only-of-type {\n",
              "        vertical-align: middle;\n",
              "    }\n",
              "\n",
              "    .dataframe tbody tr th {\n",
              "        vertical-align: top;\n",
              "    }\n",
              "\n",
              "    .dataframe thead th {\n",
              "        text-align: right;\n",
              "    }\n",
              "</style>\n",
              "<table border=\"1\" class=\"dataframe\">\n",
              "  <thead>\n",
              "    <tr style=\"text-align: right;\">\n",
              "      <th></th>\n",
              "      <th>Parch</th>\n",
              "      <th>Fare</th>\n",
              "      <th>Sex</th>\n",
              "      <th>Embarked_C</th>\n",
              "      <th>Embarked_S</th>\n",
              "      <th>Embarked_Q</th>\n",
              "      <th>Lower_class</th>\n",
              "      <th>Middle_class</th>\n",
              "      <th>High_class</th>\n",
              "      <th>Age</th>\n",
              "    </tr>\n",
              "    <tr>\n",
              "      <th>PassengerId</th>\n",
              "      <th></th>\n",
              "      <th></th>\n",
              "      <th></th>\n",
              "      <th></th>\n",
              "      <th></th>\n",
              "      <th></th>\n",
              "      <th></th>\n",
              "      <th></th>\n",
              "      <th></th>\n",
              "      <th></th>\n",
              "    </tr>\n",
              "  </thead>\n",
              "  <tbody>\n",
              "    <tr>\n",
              "      <th>1</th>\n",
              "      <td>0</td>\n",
              "      <td>7.2500</td>\n",
              "      <td>1</td>\n",
              "      <td>0</td>\n",
              "      <td>1</td>\n",
              "      <td>0</td>\n",
              "      <td>1</td>\n",
              "      <td>0</td>\n",
              "      <td>0</td>\n",
              "      <td>22.0</td>\n",
              "    </tr>\n",
              "    <tr>\n",
              "      <th>2</th>\n",
              "      <td>0</td>\n",
              "      <td>71.2833</td>\n",
              "      <td>0</td>\n",
              "      <td>1</td>\n",
              "      <td>0</td>\n",
              "      <td>0</td>\n",
              "      <td>0</td>\n",
              "      <td>0</td>\n",
              "      <td>1</td>\n",
              "      <td>38.0</td>\n",
              "    </tr>\n",
              "    <tr>\n",
              "      <th>3</th>\n",
              "      <td>0</td>\n",
              "      <td>7.9250</td>\n",
              "      <td>0</td>\n",
              "      <td>0</td>\n",
              "      <td>1</td>\n",
              "      <td>0</td>\n",
              "      <td>1</td>\n",
              "      <td>0</td>\n",
              "      <td>0</td>\n",
              "      <td>26.0</td>\n",
              "    </tr>\n",
              "    <tr>\n",
              "      <th>4</th>\n",
              "      <td>0</td>\n",
              "      <td>53.1000</td>\n",
              "      <td>0</td>\n",
              "      <td>0</td>\n",
              "      <td>1</td>\n",
              "      <td>0</td>\n",
              "      <td>0</td>\n",
              "      <td>0</td>\n",
              "      <td>1</td>\n",
              "      <td>35.0</td>\n",
              "    </tr>\n",
              "    <tr>\n",
              "      <th>5</th>\n",
              "      <td>0</td>\n",
              "      <td>8.0500</td>\n",
              "      <td>1</td>\n",
              "      <td>0</td>\n",
              "      <td>1</td>\n",
              "      <td>0</td>\n",
              "      <td>1</td>\n",
              "      <td>0</td>\n",
              "      <td>0</td>\n",
              "      <td>35.0</td>\n",
              "    </tr>\n",
              "  </tbody>\n",
              "</table>\n",
              "</div>"
            ],
            "text/plain": [
              "             Parch     Fare  Sex  ...  Middle_class  High_class   Age\n",
              "PassengerId                       ...                                \n",
              "1                0   7.2500    1  ...             0           0  22.0\n",
              "2                0  71.2833    0  ...             0           1  38.0\n",
              "3                0   7.9250    0  ...             0           0  26.0\n",
              "4                0  53.1000    0  ...             0           1  35.0\n",
              "5                0   8.0500    1  ...             0           0  35.0\n",
              "\n",
              "[5 rows x 10 columns]"
            ]
          },
          "metadata": {
            "tags": []
          },
          "execution_count": 772
        }
      ]
    },
    {
      "cell_type": "markdown",
      "metadata": {
        "id": "x-Pky8MLPg2w",
        "colab_type": "text"
      },
      "source": [
        "\n",
        "\n",
        "---\n",
        "\n",
        "\n",
        "## Separación de los datos\n",
        "Se obtendrán 3 conjuntos de datos:\n",
        "\n",
        "- Entrenamiento\n",
        "- Validación\n",
        "- Test\n",
        "\n",
        "Del conjunto inicial, se tomará un 20% para realizar pruebas y el 80% restante se utilizará para entrenamiento y validación."
      ]
    },
    {
      "cell_type": "code",
      "metadata": {
        "id": "zIYpAs2pQAeL",
        "colab_type": "code",
        "colab": {}
      },
      "source": [
        "# Separamos para (entrenamiento/validacion) y pruebas\n",
        "X_train_val, X_test, Y_train_val, Y_test = train_test_split(X, Y, \n",
        "                                                            test_size = 0.2,\n",
        "                                                            shuffle = True,\n",
        "                                                            random_state = 123)\n",
        "# Datos de entrenamiento y validacion\n",
        "X_train, X_val, Y_train, Y_val = train_test_split(X_train_val, Y_train_val,\n",
        "                                                  test_size = 0.20,\n",
        "                                                  shuffle = True,\n",
        "                                                  random_state = 123)"
      ],
      "execution_count": 773,
      "outputs": []
    },
    {
      "cell_type": "markdown",
      "metadata": {
        "id": "pRHzbsxDR2dB",
        "colab_type": "text"
      },
      "source": [
        "Dimensiones de cada conjunto de Datos"
      ]
    },
    {
      "cell_type": "code",
      "metadata": {
        "id": "Lus_-MmuR4kt",
        "colab_type": "code",
        "colab": {
          "base_uri": "https://localhost:8080/",
          "height": 34
        },
        "outputId": "57c008cc-e0b0-42b1-adbf-99dd488946c3"
      },
      "source": [
        "X_train.shape, X_val.shape, X_test.shape"
      ],
      "execution_count": 774,
      "outputs": [
        {
          "output_type": "execute_result",
          "data": {
            "text/plain": [
              "((569, 10), (143, 10), (179, 10))"
            ]
          },
          "metadata": {
            "tags": []
          },
          "execution_count": 774
        }
      ]
    },
    {
      "cell_type": "markdown",
      "metadata": {
        "id": "5uPlaBVBzT1E",
        "colab_type": "text"
      },
      "source": [
        "### Funciones Auxiliares"
      ]
    },
    {
      "cell_type": "code",
      "metadata": {
        "id": "tupRGa_nzPG4",
        "colab_type": "code",
        "colab": {}
      },
      "source": [
        "# Hyperparameters per model\n",
        "hyperparams = {\"svm\": \"C\",\n",
        "               \"logistic_regression\": \"lambda\",\n",
        "               \"naive_bayes\": \"Comb\"\n",
        "}\n",
        "\n",
        "def plot_accuracy(results_df, model):\n",
        "  hyper = hyperparams.get(model)\n",
        "  figure = plt.figure(figsize=(20,10), dpi=80)\n",
        "  plt.plot(results_df[hyper], results_df.Train_Accuracy, 'green',\n",
        "           results_df[hyper], results_df.Val_Accuracy, 'red');\n",
        "  plt.legend((\"Train Accuracy\", \"Validation Accuracy\"));\n",
        "  plt.title(model+\" Accuracy\")\n",
        "  plt.show()"
      ],
      "execution_count": 808,
      "outputs": []
    },
    {
      "cell_type": "code",
      "metadata": {
        "id": "uHX7QpFxm_Ua",
        "colab_type": "code",
        "colab": {}
      },
      "source": [
        "def get_metrics(y_hat, y):\n",
        "  '''\n",
        "  get_metrics: obtiene un conjunto de metricas a partir del conjunto de datos\n",
        "  real y las predicciones hechas\n",
        "  Input:\n",
        "    y_hat - vector de predicciones\n",
        "    y     - vector de valores reales\n",
        "  Output:\n",
        "    metrics:\n",
        "      [0] - Accuracy\n",
        "      [1] - F1 Score\n",
        "      [2] - Precision Score\n",
        "      [3] - Recall Score\n",
        "  '''\n",
        "  metrics = [mt.accuracy_score(y, y_hat, normalize=True),\n",
        "             mt.f1_score(y, y_hat),\n",
        "             mt.precision_score(y, y_hat),\n",
        "             mt.recall_score(y, y_hat, average='weighted')]\n",
        "  return metrics"
      ],
      "execution_count": 703,
      "outputs": []
    },
    {
      "cell_type": "markdown",
      "metadata": {
        "id": "jWDl8ufvSVFM",
        "colab_type": "text"
      },
      "source": [
        "## Support Vector Machine\n",
        " "
      ]
    },
    {
      "cell_type": "code",
      "metadata": {
        "id": "RkhPgiglSUVW",
        "colab_type": "code",
        "colab": {}
      },
      "source": [
        "# Importamos las librerías necesarias\n",
        "from sklearn.svm import SVC\n",
        "from sklearn.pipeline import Pipeline\n",
        "from sklearn.preprocessing import StandardScaler\n",
        "import sklearn.metrics as mt\n",
        "from sklearn.model_selection import GridSearchCV\n",
        "from sklearn.model_selection import StratifiedShuffleSplit"
      ],
      "execution_count": 559,
      "outputs": []
    },
    {
      "cell_type": "code",
      "metadata": {
        "id": "9-8YWAiTmPI8",
        "colab_type": "code",
        "colab": {}
      },
      "source": [
        "def train_svm(x_train, x_val, y_train, y_val, c):\n",
        "  '''\n",
        "  train_svm: Entrena una SVM\n",
        "  Input: \n",
        "    x_train, y_train - Datos de entrenamiento\n",
        "    x_val  , y_val   - Datos de validacion\n",
        "    c, gamma         - Hiperparametros del modelo\n",
        "  Output:\n",
        "    svm_model     - Modelo final ajustado con los datos de entrenamiento\n",
        "    train_metrics - Metricas del conjunto de entrenamiento\n",
        "    val_metrics   - Metricas del conjunto de validación\n",
        "  '''\n",
        "  svm_model = Pipeline([\n",
        "                        (\"scaler\", StandardScaler()),\n",
        "                        (\"svc\", SVC(C=c, kernel='rbf', tol=0.001,\n",
        "                                    max_iter=5000))                \n",
        "        ])\n",
        "  svm_model.fit(x_train, y_train)\n",
        "\n",
        "  y_hat_train, y_hat_val = svm_model.predict(x_train), svm_model.predict(x_val)\n",
        "  train_metrics = get_metrics(y_hat_train,y_train)\n",
        "  val_metrics = get_metrics(y_hat_val, y_val)\n",
        "  return svm_model, train_metrics, val_metrics\n",
        "    "
      ],
      "execution_count": 704,
      "outputs": []
    },
    {
      "cell_type": "markdown",
      "metadata": {
        "id": "Wp25-t1Cussa",
        "colab_type": "text"
      },
      "source": [
        "### Grid-search SVM\n",
        "Implementaremos el algoritmo grid-search para encontrar el valor del hiperparametro *C* que nos da el valor máximo para la métrica Accuracy en el set de datos de entrenamiento y validación.[texto del vínculo](https://)"
      ]
    },
    {
      "cell_type": "code",
      "metadata": {
        "id": "_NM30U1mvH3K",
        "colab_type": "code",
        "colab": {
          "base_uri": "https://localhost:8080/",
          "height": 497
        },
        "outputId": "4630653e-f643-4447-f0fc-4e5429e66552"
      },
      "source": [
        "C_values = [0.1, 0.75, 1., 3., 5., 7., 8., 9., 10., 15., 20.]\n",
        "tmetrics_list , vmetrics_list = [], []\n",
        "\n",
        "for c in C_values:\n",
        "  svm_m, tmetrics, vmetrics = train_svm(X_train, X_val, Y_train, Y_val, c)\n",
        "  tmetrics_list.append(tmetrics.copy())\n",
        "  vmetrics_list.append(vmetrics.copy())\n",
        "\n",
        "svm_results = pd.DataFrame(np.column_stack((C_values,\n",
        "                                           np.array(tmetrics_list),\n",
        "                                           np.array(vmetrics_list))),\n",
        "                           columns = [\"C\", \"Train_Accuracy\", \"Train_F1\",\n",
        "                                      \"Train_Precision\", \"Train_Recall\",\n",
        "                                      \"Val_Accuracy\", \"Val_F1\", \"Val_Precision\",\n",
        "                                      \"Val_Recall\"])\n",
        "plot_accuracy(svm_results, \"svm\")"
      ],
      "execution_count": 705,
      "outputs": [
        {
          "output_type": "display_data",
          "data": {
            "image/png": "[encoded data removed]",
            "text/plain": [
              "<Figure size 1600x800 with 1 Axes>"
            ]
          },
          "metadata": {
            "tags": [],
            "needs_background": "light"
          }
        }
      ]
    },
    {
      "cell_type": "markdown",
      "metadata": {
        "id": "0mP-m-6F3AaC",
        "colab_type": "text"
      },
      "source": [
        "Como observamos en la gráfica, el mejor modelo se produce cuando el hiperparametro **C** tiene un valor de 1.\n",
        "\n",
        "### Guardamos el mejor modelo entrenado"
      ]
    },
    {
      "cell_type": "code",
      "metadata": {
        "id": "9kD7pIIj2_wM",
        "colab_type": "code",
        "colab": {
          "base_uri": "https://localhost:8080/",
          "height": 34
        },
        "outputId": "73684a2c-7756-40c0-9042-4e794b8837e9"
      },
      "source": [
        "# Entrenamos el modelo final con C=5.\n",
        "svm_final, _, _ = train_svm(X_train, X_val, Y_train, Y_val, 1.)\n",
        "# Guardamos el mejor modelo\n",
        "joblib.dump(svm_final, \"/content/drive/My Drive/svm_final_3.pkl\")"
      ],
      "execution_count": 706,
      "outputs": [
        {
          "output_type": "execute_result",
          "data": {
            "text/plain": [
              "['/content/drive/My Drive/svm_final_3.pkl']"
            ]
          },
          "metadata": {
            "tags": []
          },
          "execution_count": 706
        }
      ]
    },
    {
      "cell_type": "markdown",
      "metadata": {
        "id": "0FGl6OuM4yd6",
        "colab_type": "text"
      },
      "source": [
        "## Logistic Regression Tensorflow\n",
        "Implementación del modelo de regresión logística con regularización utilizando Tensorflow."
      ]
    },
    {
      "cell_type": "code",
      "metadata": {
        "id": "ahvCHayY81vX",
        "colab_type": "code",
        "colab": {}
      },
      "source": [
        "def train_logistic_regression(X_Train,Y_Train,learning_rate,l2_lambda,epochs,b_size=15):\n",
        "  '''\n",
        "  train_logistic_regression: Esta funcion permite entrenar un modelo de \n",
        "    regresion logistica implementado mediante la creacion de un grafo con las\n",
        "    operaciones necesarias y se levanta una sesión para obtener el vector de \n",
        "    pesos W.\n",
        "  Input:\n",
        "    x_train, y_train - Set de Datos de entrenamiento\n",
        "    lr               - learning rate para Gradient Descen\n",
        "    l2_lambda        - Hyperparameter lambda para regularizacion L2\n",
        "    epochs           - Cantidad de iteraciones\n",
        "  '''\n",
        "  # Agregamos el valor bias a X\n",
        "  x_train = np.insert(X_Train, 0, 1, axis=1)\n",
        "  y_train = Y_Train.reshape([-1, 1])\n",
        "  m, n = x_train.shape\n",
        "  #print(x_train.shape)\n",
        "  # Creacion label para summary de tensorboard\n",
        "  save_path = \"/content/drive/My Drive/final_project_tfmodels/\"\n",
        "  summary_label = save_path+f\"lr={learning_rate}_batch-size={b_size}_l2-lambda={l2_lambda}\"\n",
        "  tf.reset_default_graph()\n",
        "  g = tf.Graph()\n",
        "  # Definicion del grafo para Regresion Logística\n",
        "  with g.as_default():\n",
        "    # Creación de placeholders que manejara las variables de entrada\n",
        "    X = tf.placeholder(tf.float32, shape = (None, n), name = \"X\")\n",
        "    Y = tf.placeholder(tf.float32, shape = (None, 1), name = \"Labels\")\n",
        "    # Hiperparametros\n",
        "    lr = tf.placeholder(tf.float32, name = \"lr\")\n",
        "    l2_reg = tf.placeholder(tf.float32, name = \"lambda\")\n",
        "    # Parametros entrenables\n",
        "    W = tf.get_variable(\"W\", shape = [n, 1])\n",
        "    #b = tf.Variable(tf.random_normal(shape=[1, 1]))\n",
        "    # Logits para regresión binaria\n",
        "    with tf.name_scope(\"Logits\"):\n",
        "      logits = tf.matmul(X, W, name = \"Logits\")\n",
        "      y_hat = tf.round(tf.sigmoid(logits))\n",
        "    with tf.name_scope(\"Accuracy\"):\n",
        "      correct = tf.cast(tf.equal(y_hat, Y), dtype=tf.float32)\n",
        "      accuracy = tf.reduce_mean(correct, name = \"Accuracy\")\n",
        "    # Funcion de Costo con Regularización L2\n",
        "    with tf.name_scope(\"Funcion_de_Costo\"):\n",
        "      regularizer = tf.nn.l2_loss(W)\n",
        "      cost_without_reg = tf.reduce_mean(tf.nn.sigmoid_cross_entropy_with_logits(\n",
        "          labels = Y, logits = logits), name = \"Cost_without_Reg\")\n",
        "      cost = tf.add(cost_without_reg, tf.multiply(l2_reg, regularizer), name = \"Cost\")\n",
        "      cost_sum = tf.summary.scalar(\"Cost_sum\", cost)\n",
        "    # Gradient Descent\n",
        "    with tf.name_scope(\"Gradient_Descent\"):\n",
        "      optimizer = tf.train.GradientDescentOptimizer(lr).minimize(cost)\n",
        "\n",
        "  # Entrenamiento del modelo\n",
        "  total_iteraciones = int(m / b_size)\n",
        "  with tf.Session(graph = g) as s:\n",
        "    writer = tf.summary.FileWriter(summary_label, graph=g)\n",
        "    s.run(tf.global_variables_initializer())\n",
        "    iter_cnt = 0\n",
        "    for epoch in range(epochs):\n",
        "      for i in range(total_iteraciones):\n",
        "        start_idx = (i*b_size) % m\n",
        "        idx = np.arange(m)[start_idx:start_idx+b_size]\n",
        "        x_batch = x_train[idx, :]\n",
        "        y_batch = y_train[idx]\n",
        "\n",
        "        feed_dict = {X: x_batch, Y: y_batch, lr: learning_rate,\n",
        "                     l2_reg: l2_lambda}\n",
        "        _, c_, c_sum, acc = s.run([optimizer, cost, cost_sum, accuracy],\n",
        "                      feed_dict=feed_dict)\n",
        "        writer.add_summary(c_sum, epoch*total_iteraciones + i + 1)\n",
        "        if (epoch % 50 == 0) and (iter_cnt % 100 ==0):\n",
        "          print(f\"Epoch: {epoch+1}, -- Costo: {c_} - Acc:{acc}\")\n",
        "        iter_cnt += 1\n",
        "    W_params = s.run(W)\n",
        "\n",
        "  return W_params"
      ],
      "execution_count": 775,
      "outputs": []
    },
    {
      "cell_type": "code",
      "metadata": {
        "id": "cJDJ90AwSez3",
        "colab_type": "code",
        "colab": {}
      },
      "source": [
        "def inference_log_reg(x, weights):\n",
        "  def sigmoid(l):\n",
        "    return (1 / (1 + np.exp(-l)))\n",
        "  x_f = np.insert(x, 0, 1, axis=1)\n",
        "  logits = np.matmul(x_f, weights)\n",
        "  y_hat = 1.0*(sigmoid(logits) > 0.5)\n",
        "\n",
        "  return y_hat"
      ],
      "execution_count": 776,
      "outputs": []
    },
    {
      "cell_type": "markdown",
      "metadata": {
        "id": "FmutjPb8w6BU",
        "colab_type": "text"
      },
      "source": [
        "### Grid-search Logistic Regression\n",
        "Se tratará de encontrar el valor de $\\lambda$ y el batch_size"
      ]
    },
    {
      "cell_type": "code",
      "metadata": {
        "id": "1psXbBq6xFfy",
        "colab_type": "code",
        "colab": {}
      },
      "source": [
        "lambda_vals = [0.000000001,0.00001, 0.0001, 0.001, 0.01, 0.1, 1.]\n",
        "batch_vals = [64, 128, 256, 300, 400, 569]\n",
        "#lambda_vals = [0.001, 0.01, 0.1, 1., 10.]\n",
        "#batch_vals = [256, 569]\n",
        "tmetrics_list , vmetrics_list = [], []\n",
        "labels = []\n",
        "\n",
        "for l in lambda_vals:\n",
        "  for b in batch_vals:\n",
        "    print(f\"Lambda:{l}, Batch_size:{b}\")\n",
        "    labels.append([l,b])\n",
        "    weights = train_logistic_regression(X_train, Y_train, learning_rate=0.1,\n",
        "                                        l2_lambda = l, epochs = 1000, b_size = b)\n",
        "    tmetrics = get_metrics(inference_log_reg(X_train, weights), Y_train)\n",
        "    vmetrics = get_metrics(inference_log_reg(X_val, weights), Y_val)\n",
        "    tmetrics_list.append(tmetrics.copy())\n",
        "    vmetrics_list.append(vmetrics.copy())\n",
        "\n",
        "log_reg_results = pd.DataFrame(np.column_stack((np.array(labels), np.array(tmetrics_list),\n",
        "                                                np.array(vmetrics_list))),\n",
        "                           columns = [\"Lambda\", \"Batch_Size\", \"Train_Accuracy\", \n",
        "                                      \"Train_F1\", \"Train_Precision\", \"Train_Recall\",\n",
        "                                      \"Val_Accuracy\", \"Val_F1\", \"Val_Precision\",\n",
        "                                      \"Val_Recall\"])"
      ],
      "execution_count": null,
      "outputs": []
    },
    {
      "cell_type": "code",
      "metadata": {
        "id": "VboD17VekDhq",
        "colab_type": "code",
        "colab": {
          "base_uri": "https://localhost:8080/",
          "height": 309
        },
        "outputId": "161b8305-1dd7-47ea-e39a-3cbfd55d886d"
      },
      "source": [
        "log_reg_results.head()"
      ],
      "execution_count": 760,
      "outputs": [
        {
          "output_type": "execute_result",
          "data": {
            "text/html": [
              "<div>\n",
              "<style scoped>\n",
              "    .dataframe tbody tr th:only-of-type {\n",
              "        vertical-align: middle;\n",
              "    }\n",
              "\n",
              "    .dataframe tbody tr th {\n",
              "        vertical-align: top;\n",
              "    }\n",
              "\n",
              "    .dataframe thead th {\n",
              "        text-align: right;\n",
              "    }\n",
              "</style>\n",
              "<table border=\"1\" class=\"dataframe\">\n",
              "  <thead>\n",
              "    <tr style=\"text-align: right;\">\n",
              "      <th></th>\n",
              "      <th>Lambda</th>\n",
              "      <th>Batch_Size</th>\n",
              "      <th>Train_Accuracy</th>\n",
              "      <th>Train_F1</th>\n",
              "      <th>Train_Precision</th>\n",
              "      <th>Train_Recall</th>\n",
              "      <th>Val_Accuracy</th>\n",
              "      <th>Val_F1</th>\n",
              "      <th>Val_Precision</th>\n",
              "      <th>Val_Recall</th>\n",
              "    </tr>\n",
              "  </thead>\n",
              "  <tbody>\n",
              "    <tr>\n",
              "      <th>0</th>\n",
              "      <td>1.000000e-09</td>\n",
              "      <td>64.0</td>\n",
              "      <td>0.794376</td>\n",
              "      <td>0.738255</td>\n",
              "      <td>0.743243</td>\n",
              "      <td>0.794376</td>\n",
              "      <td>0.650350</td>\n",
              "      <td>0.193548</td>\n",
              "      <td>0.857143</td>\n",
              "      <td>0.650350</td>\n",
              "    </tr>\n",
              "    <tr>\n",
              "      <th>1</th>\n",
              "      <td>1.000000e-09</td>\n",
              "      <td>128.0</td>\n",
              "      <td>0.796134</td>\n",
              "      <td>0.741071</td>\n",
              "      <td>0.744395</td>\n",
              "      <td>0.796134</td>\n",
              "      <td>0.615385</td>\n",
              "      <td>0.000000</td>\n",
              "      <td>0.000000</td>\n",
              "      <td>0.615385</td>\n",
              "    </tr>\n",
              "    <tr>\n",
              "      <th>2</th>\n",
              "      <td>1.000000e-09</td>\n",
              "      <td>256.0</td>\n",
              "      <td>0.792619</td>\n",
              "      <td>0.731818</td>\n",
              "      <td>0.748837</td>\n",
              "      <td>0.792619</td>\n",
              "      <td>0.657343</td>\n",
              "      <td>0.309859</td>\n",
              "      <td>0.687500</td>\n",
              "      <td>0.657343</td>\n",
              "    </tr>\n",
              "    <tr>\n",
              "      <th>3</th>\n",
              "      <td>1.000000e-09</td>\n",
              "      <td>300.0</td>\n",
              "      <td>0.780316</td>\n",
              "      <td>0.720358</td>\n",
              "      <td>0.725225</td>\n",
              "      <td>0.780316</td>\n",
              "      <td>0.678322</td>\n",
              "      <td>0.540000</td>\n",
              "      <td>0.600000</td>\n",
              "      <td>0.678322</td>\n",
              "    </tr>\n",
              "    <tr>\n",
              "      <th>4</th>\n",
              "      <td>1.000000e-09</td>\n",
              "      <td>400.0</td>\n",
              "      <td>0.787346</td>\n",
              "      <td>0.726862</td>\n",
              "      <td>0.738532</td>\n",
              "      <td>0.787346</td>\n",
              "      <td>0.650350</td>\n",
              "      <td>0.418605</td>\n",
              "      <td>0.580645</td>\n",
              "      <td>0.650350</td>\n",
              "    </tr>\n",
              "  </tbody>\n",
              "</table>\n",
              "</div>"
            ],
            "text/plain": [
              "         Lambda  Batch_Size  ...  Val_Precision  Val_Recall\n",
              "0  1.000000e-09        64.0  ...       0.857143    0.650350\n",
              "1  1.000000e-09       128.0  ...       0.000000    0.615385\n",
              "2  1.000000e-09       256.0  ...       0.687500    0.657343\n",
              "3  1.000000e-09       300.0  ...       0.600000    0.678322\n",
              "4  1.000000e-09       400.0  ...       0.580645    0.650350\n",
              "\n",
              "[5 rows x 10 columns]"
            ]
          },
          "metadata": {
            "tags": []
          },
          "execution_count": 760
        }
      ]
    },
    {
      "cell_type": "code",
      "metadata": {
        "id": "sD0ErqH4943Z",
        "colab_type": "code",
        "colab": {
          "base_uri": "https://localhost:8080/",
          "height": 527
        },
        "outputId": "e5467e4f-9ac3-42a3-bbd8-1bcc7ed95f04"
      },
      "source": [
        "# En este caso obtuvimos un accuracy de 68% para el conjunto de validacion\n",
        "Weights = train_logistic_regression(X_train,Y_train,0.001,l2_lambda=0.0001,\n",
        "                                    epochs=3000,b_size=569)"
      ],
      "execution_count": 786,
      "outputs": [
        {
          "output_type": "stream",
          "text": [
            "Epoch: 1, -- Costo: 17.65864372253418 - Acc:0.3936731219291687\n",
            "Epoch: 101, -- Costo: 0.6568484902381897 - Acc:0.6660808324813843\n",
            "Epoch: 201, -- Costo: 0.6548978686332703 - Acc:0.6678383350372314\n",
            "Epoch: 301, -- Costo: 0.6529704332351685 - Acc:0.6678383350372314\n",
            "Epoch: 401, -- Costo: 0.6510655879974365 - Acc:0.6695957779884338\n",
            "Epoch: 501, -- Costo: 0.6491831541061401 - Acc:0.6695957779884338\n",
            "Epoch: 601, -- Costo: 0.6473231315612793 - Acc:0.671353280544281\n",
            "Epoch: 701, -- Costo: 0.6454851627349854 - Acc:0.671353280544281\n",
            "Epoch: 801, -- Costo: 0.6436689496040344 - Acc:0.671353280544281\n",
            "Epoch: 901, -- Costo: 0.6418744325637817 - Acc:0.671353280544281\n",
            "Epoch: 1001, -- Costo: 0.6401011347770691 - Acc:0.6731107234954834\n",
            "Epoch: 1101, -- Costo: 0.6383492946624756 - Acc:0.6731107234954834\n",
            "Epoch: 1201, -- Costo: 0.6366181969642639 - Acc:0.6748681664466858\n",
            "Epoch: 1301, -- Costo: 0.6349078416824341 - Acc:0.6748681664466858\n",
            "Epoch: 1401, -- Costo: 0.6332180500030518 - Acc:0.6748681664466858\n",
            "Epoch: 1501, -- Costo: 0.6315486431121826 - Acc:0.6748681664466858\n",
            "Epoch: 1601, -- Costo: 0.6298993825912476 - Acc:0.6748681664466858\n",
            "Epoch: 1701, -- Costo: 0.6282699704170227 - Acc:0.6783831119537354\n",
            "Epoch: 1801, -- Costo: 0.6266602873802185 - Acc:0.6801406145095825\n",
            "Epoch: 1901, -- Costo: 0.6250700950622559 - Acc:0.6818980574607849\n",
            "Epoch: 2001, -- Costo: 0.62349933385849 - Acc:0.6836555600166321\n",
            "Epoch: 2101, -- Costo: 0.6219473481178284 - Acc:0.6854130029678345\n",
            "Epoch: 2201, -- Costo: 0.6204145550727844 - Acc:0.6871704459190369\n",
            "Epoch: 2301, -- Costo: 0.6189002990722656 - Acc:0.6871704459190369\n",
            "Epoch: 2401, -- Costo: 0.617404580116272 - Acc:0.6871704459190369\n",
            "Epoch: 2501, -- Costo: 0.6159270405769348 - Acc:0.6871704459190369\n",
            "Epoch: 2601, -- Costo: 0.6144676804542542 - Acc:0.6871704459190369\n",
            "Epoch: 2701, -- Costo: 0.6130262017250061 - Acc:0.6871704459190369\n",
            "Epoch: 2801, -- Costo: 0.6116024851799011 - Acc:0.6871704459190369\n",
            "Epoch: 2901, -- Costo: 0.6101961135864258 - Acc:0.688927948474884\n"
          ],
          "name": "stdout"
        }
      ]
    },
    {
      "cell_type": "markdown",
      "metadata": {
        "id": "slW4CNJkkQ8t",
        "colab_type": "text"
      },
      "source": [
        "### Guardamos el mejor modelo entrenado"
      ]
    },
    {
      "cell_type": "code",
      "metadata": {
        "id": "crSSZI2fTIP_",
        "colab_type": "code",
        "colab": {
          "base_uri": "https://localhost:8080/",
          "height": 34
        },
        "outputId": "791aa300-a7ab-472d-b81d-420b321e10a1"
      },
      "source": [
        "#Almacenamos el\n",
        "print(get_metrics(inference_log_reg(X_train, Weights), Y_train))\n",
        "#np.savez(file = \"/content/drive/My Drive/reg_log_weights.npz\", W = Weights)"
      ],
      "execution_count": 787,
      "outputs": [
        {
          "output_type": "stream",
          "text": [
            "[0.6889279437609842, 0.445141065830721, 0.7473684210526316, 0.6889279437609842]\n"
          ],
          "name": "stdout"
        }
      ]
    },
    {
      "cell_type": "code",
      "metadata": {
        "id": "3-Cqj3WRPRK9",
        "colab_type": "code",
        "colab": {}
      },
      "source": [
        "%load_ext tensorboard"
      ],
      "execution_count": 615,
      "outputs": []
    },
    {
      "cell_type": "code",
      "metadata": {
        "id": "pEHXB5zAPVZl",
        "colab_type": "code",
        "colab": {}
      },
      "source": [
        "%tensorboard --logdir \"/content/drive/My Drive/final_project_tfmodels/\""
      ],
      "execution_count": null,
      "outputs": []
    },
    {
      "cell_type": "markdown",
      "metadata": {
        "id": "kQsoMG8YkUEK",
        "colab_type": "text"
      },
      "source": [
        "## Modelo de clasificación Naïve Bayes\n",
        "\n",
        "Utilizaremos la implementación de *sklearn* para la implementación de este modelo y se ajustaran los hiperparametros utilizando **Grid-Search**"
      ]
    },
    {
      "cell_type": "code",
      "metadata": {
        "id": "0PeN-CPDkjku",
        "colab_type": "code",
        "colab": {}
      },
      "source": [
        "from sklearn.naive_bayes import GaussianNB"
      ],
      "execution_count": 788,
      "outputs": []
    },
    {
      "cell_type": "markdown",
      "metadata": {
        "id": "zq1xwsFzpHar",
        "colab_type": "text"
      },
      "source": [
        "Prueba utilizando todas las variables"
      ]
    },
    {
      "cell_type": "code",
      "metadata": {
        "id": "gQGRv-sdk2wx",
        "colab_type": "code",
        "colab": {
          "base_uri": "https://localhost:8080/",
          "height": 34
        },
        "outputId": "95787784-1d14-4ea6-fd68-232c091e4239"
      },
      "source": [
        "modelNB = GaussianNB()\n",
        "modelNB.fit(X_train, Y_train)\n",
        "\n",
        "get_metrics(modelNB.predict(X_val), Y_val)"
      ],
      "execution_count": 791,
      "outputs": [
        {
          "output_type": "execute_result",
          "data": {
            "text/plain": [
              "[0.7552447552447552, 0.6601941747572816, 0.68, 0.7552447552447552]"
            ]
          },
          "metadata": {
            "tags": []
          },
          "execution_count": 791
        }
      ]
    },
    {
      "cell_type": "markdown",
      "metadata": {
        "id": "wx_thuzYpLrb",
        "colab_type": "text"
      },
      "source": [
        "### Implementacion Grid-Search"
      ]
    },
    {
      "cell_type": "code",
      "metadata": {
        "id": "KyFsO-r1pRKI",
        "colab_type": "code",
        "colab": {}
      },
      "source": [
        "# Se almacena en una lista las combinaciones que queremos probar\n",
        "comb_vals = [[0,1,2,3,4,5,6,7,8,9],\n",
        "             [0,1,2,3,4,5,6,9],\n",
        "             [6,7,8,9],\n",
        "             [1,2,6,7,8,9],\n",
        "             [1,2,3,4,5,9],\n",
        "             [0,1,2,9],\n",
        "             [2,9],\n",
        "             [1,2,9],\n",
        "             [0,1,2],\n",
        "             [2,6,7,8]]\n",
        "\n",
        "tmetrics_list, vmetrics_list = [], []\n",
        "\n",
        "for comb in comb_vals:\n",
        "  modelNB = GaussianNB()\n",
        "  modelNB.fit(X_train[:, comb], Y_train)\n",
        "  tmetrics = get_metrics(modelNB.predict(X_train[:, comb]), Y_train)\n",
        "  vmetrics = get_metrics(modelNB.predict(X_val[:, comb]), Y_val)\n",
        "  tmetrics_list.append(tmetrics.copy())\n",
        "  vmetrics_list.append(vmetrics.copy())\n",
        "\n",
        "NB_results = pd.DataFrame(np.column_stack((np.array([0,1,2,3,4,5,6,7,8,9]),\n",
        "                                           np.array(tmetrics_list),\n",
        "                                           np.array(vmetrics_list))),\n",
        "                           columns = [\"Comb\", \"Train_Accuracy\", \"Train_F1\",\n",
        "                                      \"Train_Precision\", \"Train_Recall\",\n",
        "                                      \"Val_Accuracy\", \"Val_F1\", \"Val_Precision\",\n",
        "                                      \"Val_Recall\"])\n",
        "\n",
        "#plot_accuracy(NB_results, \"naive-bayes\")"
      ],
      "execution_count": 807,
      "outputs": []
    },
    {
      "cell_type": "code",
      "metadata": {
        "id": "N8mPqbPdl7FA",
        "colab_type": "code",
        "colab": {
          "base_uri": "https://localhost:8080/",
          "height": 493
        },
        "outputId": "f29a0466-670f-436e-c138-268df9866803"
      },
      "source": [
        "plot_accuracy(NB_results, \"naive_bayes\")"
      ],
      "execution_count": 809,
      "outputs": [
        {
          "output_type": "display_data",
          "data": {
            "image/png": "[encoded data removed]",
            "text/plain": [
              "<Figure size 1600x800 with 1 Axes>"
            ]
          },
          "metadata": {
            "tags": [],
            "needs_background": "light"
          }
        }
      ]
    },
    {
      "cell_type": "markdown",
      "metadata": {
        "id": "djezYlNdtzJs",
        "colab_type": "text"
      },
      "source": [
        "Seleccionamos la mejor combinación que tiene el índice 6, se traduce a las columnas \"Sex\" y \"Age\" lo que nos indica que tan influyentes son."
      ]
    },
    {
      "cell_type": "code",
      "metadata": {
        "id": "Cv-n6kqBtyVj",
        "colab_type": "code",
        "colab": {
          "base_uri": "https://localhost:8080/",
          "height": 34
        },
        "outputId": "097099b6-4983-486c-a022-048866cec9bb"
      },
      "source": [
        "comb_vals[6]\n",
        "final_NB = GaussianNB()\n",
        "final_NB.fit(X_train[:, comb_vals[6]], Y_train)\n",
        "\n",
        "# Almacenamos el modelo\n",
        "joblib.dump(final_NB, \"/content/drive/My Drive/final_NB.pkl\")"
      ],
      "execution_count": 812,
      "outputs": [
        {
          "output_type": "execute_result",
          "data": {
            "text/plain": [
              "['/content/drive/My Drive/final_NB.pkl']"
            ]
          },
          "metadata": {
            "tags": []
          },
          "execution_count": 812
        }
      ]
    }
  ]
}